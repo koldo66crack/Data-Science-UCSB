{
 "cells": [
  {
   "cell_type": "markdown",
   "metadata": {},
   "source": [
    "# Physics 240 - Assignment 3\n",
    "\n",
    "# Ramon Ciutad Perez"
   ]
  },
  {
   "cell_type": "markdown",
   "metadata": {},
   "source": [
    "This code must be read along with the handwritten notebook, which includes all formulas used here and their derivations."
   ]
  },
  {
   "cell_type": "code",
   "execution_count": 1,
   "metadata": {},
   "outputs": [],
   "source": [
    "import matplotlib.pyplot as plt\n",
    "import numpy as np\n",
    "import scipy.optimize as so\n",
    "import scipy.stats as ss\n",
    "from astropy.io import fits"
   ]
  },
  {
   "cell_type": "markdown",
   "metadata": {},
   "source": [
    "## Problem 1 : Gaussian Process Regression to Fix Images"
   ]
  },
  {
   "cell_type": "markdown",
   "metadata": {},
   "source": [
    "# 1) a)"
   ]
  },
  {
   "cell_type": "code",
   "execution_count": 2,
   "metadata": {},
   "outputs": [
    {
     "data": {
      "text/plain": [
       "(array([1.000e+00, 0.000e+00, 0.000e+00, 0.000e+00, 0.000e+00, 0.000e+00,\n",
       "        0.000e+00, 0.000e+00, 0.000e+00, 0.000e+00, 1.000e+00, 0.000e+00,\n",
       "        0.000e+00, 0.000e+00, 0.000e+00, 0.000e+00, 1.000e+00, 0.000e+00,\n",
       "        0.000e+00, 0.000e+00, 0.000e+00, 0.000e+00, 0.000e+00, 1.000e+00,\n",
       "        0.000e+00, 0.000e+00, 0.000e+00, 0.000e+00, 1.000e+00, 0.000e+00,\n",
       "        0.000e+00, 0.000e+00, 0.000e+00, 0.000e+00, 0.000e+00, 1.000e+00,\n",
       "        0.000e+00, 0.000e+00, 1.000e+00, 1.000e+00, 1.000e+00, 1.000e+00,\n",
       "        1.000e+00, 1.000e+00, 3.000e+00, 1.000e+00, 2.000e+00, 2.000e+00,\n",
       "        2.000e+00, 0.000e+00, 1.000e+00, 3.000e+00, 2.000e+00, 4.000e+00,\n",
       "        6.000e+00, 7.000e+00, 3.000e+00, 3.000e+00, 6.000e+00, 8.000e+00,\n",
       "        1.000e+01, 1.100e+01, 1.400e+01, 1.500e+01, 1.800e+01, 1.700e+01,\n",
       "        2.700e+01, 5.100e+01, 6.800e+01, 7.600e+01, 1.270e+02, 2.090e+02,\n",
       "        4.180e+02, 1.241e+03, 3.722e+03, 2.276e+03, 7.700e+02, 2.960e+02,\n",
       "        1.770e+02, 1.020e+02, 8.100e+01, 4.800e+01, 3.900e+01, 2.300e+01,\n",
       "        1.900e+01, 1.400e+01, 1.300e+01, 1.500e+01, 1.100e+01, 4.000e+00,\n",
       "        4.000e+00, 4.000e+00, 0.000e+00, 6.000e+00, 4.000e+00, 3.000e+00,\n",
       "        1.000e+00, 0.000e+00, 0.000e+00, 1.000e+00]),\n",
       " array([-1473.2354   , -1453.5271   , -1433.8188   , -1414.1106   ,\n",
       "        -1394.4023   , -1374.6942   , -1354.986    , -1335.2777   ,\n",
       "        -1315.5695   , -1295.8612   , -1276.153    , -1256.4447   ,\n",
       "        -1236.7365   , -1217.0282   , -1197.32     , -1177.6118   ,\n",
       "        -1157.9036   , -1138.1953   , -1118.487    , -1098.7788   ,\n",
       "        -1079.0706   , -1059.3623   , -1039.654    , -1019.94586  ,\n",
       "        -1000.2376   ,  -980.52936  ,  -960.8211   ,  -941.1129   ,\n",
       "         -921.40466  ,  -901.6964   ,  -881.98816  ,  -862.27997  ,\n",
       "         -842.5717   ,  -822.86346  ,  -803.1552   ,  -783.44696  ,\n",
       "         -763.7388   ,  -744.0305   ,  -724.32227  ,  -704.614    ,\n",
       "         -684.90576  ,  -665.1976   ,  -645.4893   ,  -625.78107  ,\n",
       "         -606.0728   ,  -586.36456  ,  -566.6564   ,  -546.9481   ,\n",
       "         -527.23987  ,  -507.53165  ,  -487.8234   ,  -468.11514  ,\n",
       "         -448.40692  ,  -428.69867  ,  -408.99045  ,  -389.2822   ,\n",
       "         -369.57397  ,  -349.86572  ,  -330.15747  ,  -310.44925  ,\n",
       "         -290.741    ,  -271.03278  ,  -251.32452  ,  -231.61629  ,\n",
       "         -211.90805  ,  -192.19981  ,  -172.49156  ,  -152.78333  ,\n",
       "         -133.07509  ,  -113.36685  ,   -93.658615 ,   -73.95037  ,\n",
       "          -54.242134 ,   -34.533894 ,   -14.825656 ,     4.8825836,\n",
       "           24.590822 ,    44.29906  ,    64.0073   ,    83.71554  ,\n",
       "          103.42378  ,   123.13202  ,   142.84026  ,   162.5485   ,\n",
       "          182.25673  ,   201.96498  ,   221.67322  ,   241.38145  ,\n",
       "          261.0897   ,   280.79794  ,   300.50616  ,   320.21442  ,\n",
       "          339.92264  ,   359.6309   ,   379.33914  ,   399.04736  ,\n",
       "          418.7556   ,   438.46384  ,   458.1721   ,   477.8803   ,\n",
       "          497.58856  ], dtype=float32),\n",
       " <BarContainer object of 100 artists>)"
      ]
     },
     "execution_count": 2,
     "metadata": {},
     "output_type": "execute_result"
    },
    {
     "data": {
      "image/png": "[encoded data removed]",
      "text/plain": [
       "<Figure size 432x288 with 1 Axes>"
      ]
     },
     "metadata": {
      "needs_background": "light"
     },
     "output_type": "display_data"
    }
   ],
   "source": [
    "# Problem 1 part a\n",
    "\n",
    "images = fits.open(\"Images for Homework 4, Part 1.fits\")[0].data\n",
    "\n",
    "iterations = 10000\n",
    "\n",
    "indices_1 = np.random.randint(1, len(images[:,0,0]) - 1, iterations)\n",
    "indices_2 = np.random.randint(1, len(images[0,:,0]) - 1, iterations)\n",
    "indices_3 = np.random.randint(1, len(images[0,0,:]) - 1, iterations)\n",
    "\n",
    "pixels = images[indices_1, indices_2, indices_3]\n",
    "median_differences = []\n",
    "\n",
    "for i in range(iterations):\n",
    "    neighbors_pixels = []\n",
    "    indices_range_2 = [indices_2[i] - 1, indices_2[i], indices_2[i] + 1]\n",
    "    indices_range_3 = [indices_3[i] - 1, indices_3[i], indices_3[i] + 1]\n",
    "    pixel = images[indices_1[i], indices_2[i], indices_3[i]]\n",
    "    \n",
    "    for j in indices_range_2:\n",
    "        for k in indices_range_3:\n",
    "            if [j,k] != [indices_2[i], indices_3[i]]:\n",
    "                neighbors_pixels.append(images[indices_1, j, k])\n",
    "    \n",
    "    median = np.median(neighbors_pixels)\n",
    "    difference = median - pixel\n",
    "    median_differences.append(difference)\n",
    "\n",
    "plt.hist(median_differences, bins=100)    "
   ]
  },
  {
   "cell_type": "markdown",
   "metadata": {},
   "source": [
    "# 1) b)"
   ]
  },
  {
   "cell_type": "code",
   "execution_count": 3,
   "metadata": {},
   "outputs": [
    {
     "data": {
      "image/png": "[encoded data removed]",
      "text/plain": [
       "<Figure size 1080x432 with 1 Axes>"
      ]
     },
     "metadata": {
      "needs_background": "light"
     },
     "output_type": "display_data"
    },
    {
     "name": "stdout",
     "output_type": "stream",
     "text": [
      "CPU times: user 34.5 s, sys: 1min 6s, total: 1min 40s\n",
      "Wall time: 50.9 s\n"
     ]
    }
   ],
   "source": [
    "%%time\n",
    "\n",
    "def plot_differences(differences_trial):\n",
    "    fig = plt.figure(figsize=(15, 6))\n",
    "    ax = fig.add_subplot(111)\n",
    "    ax.hist(differences_trial, bins=100)\n",
    "    ax.set_xlabel('pixel val - median-replaced val', fontsize=18)\n",
    "    ax.set_ylabel('Number', fontsize=18)\n",
    "    plt.xticks(fontsize=15)\n",
    "    plt.yticks(fontsize=15)\n",
    "    plt.grid(True)\n",
    "    plt.show()\n",
    "\n",
    "def k_func(a, h, coord_1, coord_2):\n",
    "\n",
    "    diff2 = (coord_2[1] - coord_1[1])**2 + (coord_2[0] - coord_1[0])**2\n",
    "\n",
    "    return a**2 * np.exp(- diff2 / (2 * h**2))\n",
    "\n",
    "mean_image = np.mean(images, axis=0)\n",
    "images_mean_sub = images - mean_image\n",
    "\n",
    "def find_matrices(x, y, a, h, image):\n",
    "\n",
    "    k_yx = np.array([])\n",
    "    f_x = np.array([])\n",
    "    coord_list = []\n",
    "\n",
    "    for i in range(-4, 5):\n",
    "        for j in range(-4, 5):\n",
    "\n",
    "            if i == 0 and j == 0:\n",
    "                continue\n",
    "\n",
    "            temp_ky = k_func(a, h, [y, x], [y+i, x+j])\n",
    "            k_yx = np.append(k_yx, temp_ky)\n",
    "\n",
    "            f_x = np.append(f_x, image[y, x])\n",
    "\n",
    "            coord_list.append([y+i, x+j])\n",
    "\n",
    "    k_xy = k_yx.T\n",
    "\n",
    "    k_yy = k_func(a, h, [y, x], [y, x])\n",
    "\n",
    "    k_xx = np.empty((0, 9**2-1))\n",
    "\n",
    "    for coord in coord_list:\n",
    "        temp_arr = np.array([])\n",
    "        for i in range(-4, 5):\n",
    "            for j in range(-4, 5):\n",
    "                if i == 0 and j == 0:\n",
    "                    continue\n",
    "                temp_val = k_func(a, h, coord, [y+i, x+j])\n",
    "                temp_arr = np.append(temp_arr, temp_val)\n",
    "        k_xx = np.vstack((k_xx, temp_arr))\n",
    "\n",
    "    data_sigma = 5\n",
    "    cov_data = np.identity(len(k_xx)) * data_sigma**2\n",
    "\n",
    "    return k_xx + cov_data, k_xy, k_yx, k_yy, f_x\n",
    "\n",
    "no_trials = 250\n",
    "a_trial = 5\n",
    "h_trial = 5\n",
    "\n",
    "x_trials = []\n",
    "y_trials = []\n",
    "image_trials = []\n",
    "for _ in range(no_trials):\n",
    "    image_trial = images_mean_sub[np.random.randint(0, len(images))]\n",
    "    y_trial = np.random.randint(4, len(image_trial)-4)\n",
    "    x_trial = np.random.randint(4, len(image_trial[0])-4)\n",
    "\n",
    "    image_trials.append(image_trial)\n",
    "    x_trials.append(x_trial)\n",
    "    y_trials.append(y_trial)\n",
    "\n",
    "def find_differences(a, h, x_tests, y_tests, image_tests):\n",
    "\n",
    "    differences_list = []\n",
    "    for index, image in enumerate(image_tests):\n",
    "\n",
    "        k_xx_full, k_xy, k_yx, k_yy, f_x = find_matrices(x_tests[index], y_tests[index], a, h, image)\n",
    "\n",
    "        mu = np.dot( k_yx, np.dot(np.linalg.inv(k_xx_full), f_x) )\n",
    "        err = k_yy - np.dot( k_yx, np.dot(np.linalg.inv(k_xx_full), k_xy) )\n",
    "\n",
    "        difference_trial = image[y_tests[index], x_tests[index]] - mu\n",
    "        differences_list.append(difference_trial)\n",
    "\n",
    "    return differences_list\n",
    "\n",
    "differences = find_differences(a_trial, h_trial, x_trials, y_trials, image_trials)\n",
    "plot_differences(differences)"
   ]
  },
  {
   "cell_type": "markdown",
   "metadata": {},
   "source": [
    "# 1) c)"
   ]
  },
  {
   "cell_type": "code",
   "execution_count": null,
   "metadata": {},
   "outputs": [],
   "source": [
    "def find_sample_std(params, x_tests, y_tests, image_tests):\n",
    "\n",
    "    differences_list = find_differences(params[0], params[1], x_tests, y_tests, image_tests)\n",
    "\n",
    "    differences_mean = np.mean(differences_list)\n",
    "    differences_std = np.std(differences_list)\n",
    "\n",
    "    if abs(differences_std) <= 0.1:\n",
    "        differences_std = 0\n",
    "\n",
    "    return differences_std\n",
    "\n",
    "best_params = so.minimize(find_sample_std, np.array([5, 5]), args=(x_trials, y_trials, image_trials), options={10}).x\n",
    "print(best_params)"
   ]
  },
  {
   "cell_type": "markdown",
   "metadata": {},
   "source": [
    "## Problem 2 : A Mixture Model and Bootstrapping, Redux"
   ]
  },
  {
   "cell_type": "markdown",
   "metadata": {},
   "source": [
    "# 2) a)"
   ]
  },
  {
   "cell_type": "markdown",
   "metadata": {},
   "source": [
    "This part is done entirely in the handwritten noteboook."
   ]
  },
  {
   "cell_type": "markdown",
   "metadata": {},
   "source": [
    "# 2) b)"
   ]
  },
  {
   "cell_type": "code",
   "execution_count": 5,
   "metadata": {},
   "outputs": [
    {
     "name": "stdout",
     "output_type": "stream",
     "text": [
      "[ 0.08272071 -0.14993113  1.37454603  0.05209836  0.80239219]\n"
     ]
    }
   ],
   "source": [
    "# Problem 2 part b)\n",
    "data = np.genfromtxt('Velocities for Homework 4, Part 2.dat', comments='#')\n",
    "\n",
    "xdot_1 = data[:,0]\n",
    "xdot_error_1 = data[:,1]\n",
    "xdot_2 = data[:,4]\n",
    "xdot_error_2 = data[:,5]\n",
    "ydot_1 = data[:,2]\n",
    "ydot_error_1 = data[:,3]\n",
    "ydot_2 = data[:,6]\n",
    "ydot_error_2 = data[:,7]\n",
    "\n",
    "difference_xdot_data = xdot_1 - xdot_2\n",
    "difference_ydot_data = ydot_1 - ydot_2\n",
    "variance_xdot_data = xdot_error_1**2 + xdot_error_2**2\n",
    "variance_ydot_data = ydot_error_1**2 + ydot_error_2**2\n",
    "\n",
    "def find_log_likelihood(parameters, difference_xdot=difference_xdot_data,\n",
    "                        difference_ydot=difference_ydot_data,\n",
    "                        variance_xdot=variance_xdot_data,\n",
    "                        variance_ydot=variance_ydot_data):\n",
    "    delta_xdot, delta_ydot, a, b, g = parameters\n",
    "    \n",
    "    # Start finding the likelihood in the good case:\n",
    "    sigma_x = (a**2 * variance_xdot + b**2)\n",
    "    sigma_y = (a**2 * variance_ydot + b**2)\n",
    "    factor = 1 / (2*np.pi * np.sqrt(sigma_x * sigma_y))\n",
    "    exponent = -1/2 * ((difference_xdot - delta_xdot)**2 / sigma_x + (difference_ydot - delta_ydot)**2 / sigma_y)\n",
    "    likelihood_good = factor * np.exp(exponent)\n",
    "    \n",
    "    # Now the likelihood for the bad case:\n",
    "    exponent = -1/2 * ((difference_xdot - delta_xdot)**2 / 4 + (difference_ydot - delta_ydot)**2 / 4)\n",
    "    likelihood_bad = 1/(8*np.pi) * np.exp(exponent)\n",
    "    \n",
    "    total_likelihood = g * likelihood_good + (1-g) * likelihood_bad\n",
    "    log_L = np.sum(np.log(total_likelihood))\n",
    "    \n",
    "    return -log_L\n",
    "\n",
    "params = so.differential_evolution(find_log_likelihood, [(-0.5, 0.5), (-0.5, 0.5), (0, 5), (0, 1), (0, 1)]).x\n",
    "#params = so.minimize(find_log_likelihood, [0.1, -0.1, 0.5, 0.5, 0.5], method='Nelder-Mead').x\n",
    "\n",
    "print(params)"
   ]
  },
  {
   "cell_type": "markdown",
   "metadata": {},
   "source": [
    "# 2) c)"
   ]
  },
  {
   "cell_type": "code",
   "execution_count": 6,
   "metadata": {},
   "outputs": [
    {
     "name": "stdout",
     "output_type": "stream",
     "text": [
      "\n",
      "[0.00715785 0.0082336  0.17462089 0.03142246 0.02357776]\n"
     ]
    }
   ],
   "source": [
    "# Problem 2 part c)\n",
    "# Use bootstrap to find errors on the best fit parameters\n",
    "n_iterations = 100\n",
    "params_array = np.empty((0, 5))\n",
    "print()\n",
    "for sample in range(n_iterations):\n",
    "    indices_sample = np.random.randint(0, len(xdot_1), len(xdot_1))\n",
    "    indices_sample = np.array(sorted(list(indices_sample)))\n",
    "    difference_xdot_sample = difference_xdot_data[indices_sample]\n",
    "    difference_ydot_sample = difference_ydot_data[indices_sample]\n",
    "    variance_xdot_sample = variance_xdot_data[indices_sample]\n",
    "    variance_ydot_sample = variance_ydot_data[indices_sample]\n",
    "    # params_sample = so.differential_evolution(find_log_likelihood, [(-0.5, 0.5), (-0.5, 0.5), (0, 5), (0, 1), (0, 1)],\n",
    "    #                                           args=(difference_xdot_sample, difference_ydot_sample, variance_xdot_sample, variance_ydot_sample)).x\n",
    "    params_sample = so.minimize(find_log_likelihood, [0.1, -0.1, 0.5, 0.5, 0.5], method='Nelder-Mead',\n",
    "                                args=(difference_xdot_sample, difference_ydot_sample, variance_xdot_sample, variance_ydot_sample)).x\n",
    "    # params_sample = np.reshape(params_sample, (1, 5))\n",
    "    params_array = np.vstack((params_array, params_sample))\n",
    "\n",
    "errors_params = np.std(params_array, axis=0)\n",
    "print(errors_params)"
   ]
  },
  {
   "cell_type": "code",
   "execution_count": 7,
   "metadata": {},
   "outputs": [
    {
     "name": "stdout",
     "output_type": "stream",
     "text": [
      "The optimal delta-xdot is: 0.0827 ± 0.0072\n",
      "The optimal delta-ydot is: -0.1499 ± 0.0082\n",
      "The optimal fit parameter a is: 1.3745 ± 0.1746\n",
      "The optimal fit parameter b is: 0.0521 ± 0.0314\n",
      "The optmal prior probability g is: 0.8024 ± 0.0236\n"
     ]
    }
   ],
   "source": [
    "print('The optimal delta-xdot is: {0:.4f} ± {1:.4f}'.format(params[0], errors_params[0]))\n",
    "print('The optimal delta-ydot is: {0:.4f} ± {1:.4f}'.format(params[1], errors_params[1]))\n",
    "print('The optimal fit parameter a is: {0:.4f} ± {1:.4f}'.format(params[2], errors_params[2]))\n",
    "print('The optimal fit parameter b is: {0:.4f} ± {1:.4f}'.format(params[3], errors_params[3]))\n",
    "print('The optmal prior probability g is: {0:.4f} ± {1:.4f}'.format(params[4], errors_params[4]))"
   ]
  },
  {
   "cell_type": "markdown",
   "metadata": {},
   "source": [
    "## Problem 3 : Measure your Evidence, Watch your Assumptions"
   ]
  },
  {
   "cell_type": "markdown",
   "metadata": {},
   "source": [
    "This problem is mostly solved and discussed in the hadwritten notebook, and only a few calculations are computed here."
   ]
  },
  {
   "cell_type": "code",
   "execution_count": 8,
   "metadata": {},
   "outputs": [
    {
     "name": "stdout",
     "output_type": "stream",
     "text": [
      "The strength of the evidence of the black hole using the AIC is: 0.0735\n",
      "This corresponds to 1.45 Gaussian standard deviations\n",
      "\n",
      "The strength of the evidence of the black hole using the BIC is: 0.1901\n",
      "This corresponds to 0.88 Gaussian standard deviations\n"
     ]
    }
   ],
   "source": [
    "delta_AIC = -2.61\n",
    "delta_BIC = -1.66\n",
    "\n",
    "strength_AIC = np.exp(delta_AIC)\n",
    "print('The strength of the evidence of the black hole using the AIC is: {:.4f}'.format(strength_AIC))\n",
    "n_sigma_AIC = ss.norm.isf(strength_AIC)\n",
    "print(r'This corresponds to {:.2f} Gaussian standard deviations'.format(n_sigma_AIC))\n",
    "\n",
    "strength_BIC = np.exp(delta_BIC)\n",
    "print('\\nThe strength of the evidence of the black hole using the BIC is: {:.4f}'.format(strength_BIC))\n",
    "n_sigma_BIC = ss.norm.isf(strength_BIC)\n",
    "print(r'This corresponds to {:.2f} Gaussian standard deviations'.format(n_sigma_BIC))"
   ]
  }
 ],
 "metadata": {
  "kernelspec": {
   "display_name": "Python 3",
   "language": "python",
   "name": "python3"
  },
  "language_info": {
   "codemirror_mode": {
    "name": "ipython",
    "version": 3
   },
   "file_extension": ".py",
   "mimetype": "text/x-python",
   "name": "python",
   "nbconvert_exporter": "python",
   "pygments_lexer": "ipython3",
   "version": "3.8.6"
  }
 },
 "nbformat": 4,
 "nbformat_minor": 4
}
